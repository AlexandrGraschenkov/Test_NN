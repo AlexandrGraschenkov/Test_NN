{
 "cells": [
  {
   "cell_type": "code",
   "execution_count": 2,
   "metadata": {},
   "outputs": [
    {
     "name": "stdout",
     "output_type": "stream",
     "text": [
      "[[-1.26550152 -1.55252621  1.643387    2.9566504 ]\n",
      " [-0.49624414 -1.30972986  1.87373886 -0.68788703]\n",
      " [-0.89204088 -0.82591204  1.25472796  1.06847844]]\n",
      "[[-1.26550152 -1.55252621  1.643387    2.9566504 ]\n",
      " [-0.49624414 -1.30972986  1.87373886 -0.68788703]\n",
      " [-0.89204088 -0.82591204  1.25472796  1.06847844]]\n"
     ]
    }
   ],
   "source": [
    "import numpy as np\n",
    "from sympy import *\n",
    "\n",
    "a = np.random.randn(3, 4)\n",
    "b = np.random.randn(4, 1)\n",
    "\n",
    "c = np.random.randn(3, 4)\n",
    "for i in range(3):\n",
    "  for j in range(4):\n",
    "    c[i][j] = a[i][j] + b[j]\n",
    "\n",
    "print(c)\n",
    "print(a+b.T)\n"
   ]
  },
  {
   "cell_type": "code",
   "execution_count": 3,
   "metadata": {},
   "outputs": [
    {
     "name": "stdout",
     "output_type": "stream",
     "text": [
      "2*x\n"
     ]
    }
   ],
   "source": [
    "x = Symbol('x')\n",
    "y = x**2 + 1\n",
    "yprime = y.diff(x)\n",
    "print(yprime)"
   ]
  },
  {
   "cell_type": "code",
   "execution_count": 7,
   "metadata": {},
   "outputs": [
    {
     "name": "stdout",
     "output_type": "stream",
     "text": [
      "Sigmoid ':  exp(-Z)/(1 + exp(-Z))**2\n"
     ]
    }
   ],
   "source": [
    "# Sigmoid\n",
    "\n",
    "Z = Symbol('Z')\n",
    "sig = 1/(1+E**(-Z))\n",
    "sig_prime = sig.diff(Z)\n",
    "print(\"Sigmoid ': \", sig_prime)"
   ]
  },
  {
   "cell_type": "code",
   "execution_count": 30,
   "metadata": {},
   "outputs": [
    {
     "name": "stdout",
     "output_type": "stream",
     "text": [
      "[[1]\n",
      " [8]\n",
      " [9]]\n",
      "(3, 1) (3, 1)\n"
     ]
    },
    {
     "data": {
      "text/plain": [
       "array([[ 1],\n",
       "       [16],\n",
       "       [27]])"
      ]
     },
     "execution_count": 30,
     "metadata": {},
     "output_type": "execute_result"
    }
   ],
   "source": [
    "# Test \n",
    "\n",
    "A = np.random.randint(0, 10, (3, 1))\n",
    "print(A)\n",
    "pow_arr = np.array([[1], [2], [3]])\n",
    "print(pow_arr.shape, A.shape)\n",
    "(A * pow_arr)"
   ]
  },
  {
   "cell_type": "code",
   "execution_count": 24,
   "metadata": {},
   "outputs": [
    {
     "name": "stdout",
     "output_type": "stream",
     "text": [
      "func:  x**k\n",
      "dx:  k*x**k/x\n",
      "dk:  x**k*log(x)\n"
     ]
    }
   ],
   "source": [
    "x = Symbol('x')\n",
    "k = Symbol('k')\n",
    "power = x ** k\n",
    "print(\"func: \", power)\n",
    "print(\"dx: \", power.diff(x))\n",
    "print(\"dk: \", power.diff(k))"
   ]
  },
  {
   "cell_type": "code",
   "execution_count": null,
   "metadata": {},
   "outputs": [],
   "source": []
  },
  {
   "cell_type": "code",
   "execution_count": null,
   "metadata": {},
   "outputs": [],
   "source": []
  }
 ],
 "metadata": {
  "kernelspec": {
   "display_name": "Python 3",
   "language": "python",
   "name": "python3"
  },
  "language_info": {
   "codemirror_mode": {
    "name": "ipython",
    "version": 3
   },
   "file_extension": ".py",
   "mimetype": "text/x-python",
   "name": "python",
   "nbconvert_exporter": "python",
   "pygments_lexer": "ipython3",
   "version": "3.6.5"
  }
 },
 "nbformat": 4,
 "nbformat_minor": 2
}
